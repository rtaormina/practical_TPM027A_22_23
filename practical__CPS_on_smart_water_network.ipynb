{
 "cells": [
  {
   "cell_type": "markdown",
   "metadata": {},
   "source": [
    "**TPM027A Cyber Risk Management (2022/23 Q1)** \\\n",
    "**Guest Lecture on *Cyber-physical security of water infrastructure*, Dr Riccardo Taormina**"
   ]
  },
  {
   "cell_type": "markdown",
   "metadata": {},
   "source": [
    "# Detecting cyber-physical attacks on Smart Water Networks"
   ]
  },
  {
   "cell_type": "markdown",
   "metadata": {},
   "source": [
    "## Introduction"
   ]
  },
  {
   "cell_type": "markdown",
   "metadata": {},
   "source": [
    "### The case study"
   ]
  },
  {
   "cell_type": "markdown",
   "metadata": {},
   "source": [
    "C-Town Public Utility (CPU) is the water distribution system operator of C-Town (see Figure 1). The network consists of 429 pipes, 388 junctions, 7 storage tanks, 11 pumps (distributed across 5 pumping stations), 1 actionable valve (V1), and a single reservoir (e.g., drinking water source). Water consumption is fairly regular throughout the year. \n",
    "\n",
    "C-Town is a Smart Water Network, where the physical assets are supervised by of 9 PLCs, which are located in proximity to pumps, storage tanks, and valves. Actuators are controlled based on high-low water levels in the respective controlling tank. Most of the PLCs controlling the pumps receive the information needed by the control logic from other PLCs—for instance, PLC1 controls Pumps PU1 and PU2 on the basis of Tank T1 water level, which is monitored by PLC2 (Table 1). \n",
    "\n",
    "All PLCs report sensed information to a central SCADA system. The SCADA historan contains a total of 43 variables, including: 7 water levels (identified by `L_\\<tank_id>`), the status (on/off or open/closed) of pumps and valves (`S_\\<actuator_id>`), the flow through the actuators (`F_\\<actuator_id>`), and the pressure before and after the pumping stations (`P_\\<junction_id>`).\n",
    "\n",
    "\n",
    "| **PLC** | **Water level** |            **Status**            |             **Flow**             |                  **Pressure**                  |           **Actuators(controlling sensor)**          |\n",
    "|:-------:|:---------------:|:--------------------------------:|:--------------------------------:|:----------------------------------------------:|:----------------------------------------------------:|\n",
    "| PLC1    |  ---            | S_PU1, S_PU2, S_PU3              | F_PU1, F_PU2, F_PU3              | P_J280, P_J269                                 | PU1(L_T1), PU2(L_T1), PU3(=redundant pump)           |\n",
    "| PLC2    | L_T1            |     ---                             |            ---                      |      ---                                          | ---                                                  |\n",
    "| PLC3    | L_T2            | S_PU4, S_PU5, S_PU6, S_PU7, S_V1 | F_PU4, F_PU5, F_PU6, F_PU7, F_V1 | P_J300, P_J256, P_J289, P_J415, P_J302, P_J306 | V1(L_T2), PU4(L_T3), PU5(L_T3), PU6(L_T4), PU7(L_T4) |\n",
    "| PLC4    | L_T3            |     ---                             |             ---                     |       ---                                         | ---                                                  |\n",
    "| PLC5    | ---             | S_PU8, S_PU9, S_PU10, S_PU11     | F_PU8, F_PU9, F_PU10, F_PU11     | P_J307, P_J317, P_J14, P_J422                  | PU8(L_T5), PU9(L_T5), PU10(L_T7), PU11(L_T7)         |\n",
    "| PLC6    | L_T4            |         ---                         |        ---                          |    ---                                            | ---                                                  |\n",
    "| PLC7    | L_T5            |      ---                            |          ---                        |     ---                                           | ---                                                  |\n",
    "| PLC8    | L_T6            |       ---                           |          ---                        |           ---                                     | ---                                                  |\n",
    "| PLC9    | L_T7            |       ---                           |           ---                       |             ---                                   | ---                                                  |---\n",
    "\n",
    "**Table 1.** Sensors/actuators (pumps and valves) monitored/controlled by PLCs. For each PLC, the corresponding controlling water level sensor provides the information needed to operate the actuators. A PLC-to-PLC connection is established whenever an actuator and the corresponding control sensor are connected to two different PLCs.\n",
    "\n",
    "<p align=\"center\">\n",
    "    <img src=\"https://www.batadal.net/images/fig1.png\" alt=\"The C-Town WDS\" id=\"map\" width=\"600px\"/>\n",
    "</p>     \n",
    "\n",
    "**Figure 1.** The C-Town water distribution system, with highlighted PLCs, tanks and actuators. Only valve V1 is operated automatically."
   ]
  },
  {
   "cell_type": "markdown",
   "metadata": {},
   "source": [
    "Run the cell below to visualize in another web-page the sensed junctions before (blue) and after (white) the actuators, as well as the tanks (red). "
   ]
  },
  {
   "cell_type": "code",
   "execution_count": 22,
   "metadata": {},
   "outputs": [
    {
     "name": "stderr",
     "output_type": "stream",
     "text": [
      "C:\\Users\\rtaormina\\Anaconda3\\lib\\site-packages\\wntr\\epanet\\io.py:2131: UserWarning:\n",
      "\n",
      "Not all curves were used in \"data/CTOWN.inp\"; added with type None, units conversion left to user\n",
      "\n"
     ]
    }
   ],
   "source": [
    "import wntr # The Water Network Tool for Resilience (WNTR) Python package simulate and analyze water distribution networks.\n",
    "\n",
    "# load the C-Town computational model\n",
    "inp_file = 'data/CTOWN.inp' \n",
    "wn = wntr.network.WaterNetworkModel(inp_file);\n",
    "\n",
    "# visualize interactive map with all sensed junctions and tanks\n",
    "p_nodes = [\n",
    "    'J280','J269','J300','J256','J289','J415',\n",
    "    'J302','J306','J307','J317','J14','J422',\n",
    "    'T1','T2','T3','T4','T5','T6','T7']\n",
    "v_nodes = [0,1,0,1,0,1,0,1,0,1,0,1,2,2,2,2,2,2,2]\n",
    "\n",
    "wntr.graphics.plot_interactive_network(\n",
    "    wn, \n",
    "    node_attribute=dict(zip(p_nodes, v_nodes)), node_cmap='Picnic', node_range=[0,2], add_colorbar = False, \n",
    "    filename='sensed_nodes.html', auto_open=True, figsize=(600,600), title='Sensed nodes || 0/1: pressure before/after actuator 2: tank');"
   ]
  },
  {
   "cell_type": "markdown",
   "metadata": {},
   "source": [
    "### Datasets"
   ]
  },
  {
   "cell_type": "markdown",
   "metadata": {},
   "source": [
    "The are three datasets avaiable for the C-Town water distribution system, containing hourly SCADA historian observations for all recorded sensors during periods of normal operations as well as under cyber-physical attacks. These are:\n",
    "\n",
    "1. `dataset_01.csv`: 365 days of normal observation data;\n",
    "2. `dataset_02.csv`: 174 days of data containing 7 instances of cyber-physical attacks;\n",
    "3. `dataset_03.csv`: 87 days of data containing 7 instances of cyber-physical attacks.\n",
    "\n",
    "The attacks are various, performed on several devices and communication channels. Some of these attacks include deception attacks aimed at concealing altered signals by manipulating the data arriving to SCADA. One such example is reported in Figure 2 below; more sophisticated version include *replaying* previously recorded information (e.g., a bit like in hollywood movies where robbers play a tape to fool live CCTV recordings).\n",
    "\n",
    "<p align=\"center\">\n",
    "    <img src=\"./images/concealment_attacks.PNG\" alt=\"The C-Town WDS\" id=\"map\" width=\"800px\"/>\n",
    "</p>     \n",
    "\n",
    "**Figure 2.** Attack \\#3 from `dataset_02`. The attacker alters Tank T1 water level readings (solid line) sent by PLC2 to PLC1, which reads a constant low level (dotted line) and keeps Pumps PU1/PU2 on. This causes an overflow in Tank T1 (thick darkly shaded line). To conceal the action, the attacker alters the signal sent by PLC2 to the SCADA system (dashed line) by adding a time-varying offset (thin shaded line). The duration of the entire attack is highlighted by the thick lightly shaded line on the horizontal axis."
   ]
  },
  {
   "cell_type": "markdown",
   "metadata": {},
   "source": [
    "## Instructions"
   ]
  },
  {
   "cell_type": "markdown",
   "metadata": {},
   "source": [
    "The exercise is divided in 4 parts:\n",
    "\n",
    "1.  In the first part you will look at a dashboard of the SCADA historian for `dataset_01` to get an idea on the normal operating conditions of the smart water network. To enrich the analysis, we will also compute and plot the minimum, maximum, and median values for each sensor measured for each day of the week, for each hour of the week.\n",
    "\n",
    "\n",
    "2. We will repeat what done before by looking at `dataset_02` for which all attacks are known and reported. Try to spot all the attacks using the information available, and comparing it against the weekly statistics (i.e., min, max, and median) computed for `dataset_01`. Does this comparison with expected normal operation conditions help the detection of the attacks?\n",
    "\n",
    "\n",
    "3. Can you now detect the attacks in `dataset_03` without any information on them? Given the short time available, try to think which sensors are the most important based on your (basic) understanding of the water distribution systems and on the experience you gained in Part 2. Of course, you can work in teams!\n",
    "\n",
    "\n",
    "4. Check your detection against the ground truth. Try to look at it only towards the end :) \n",
    "\n",
    "Enjoy being a cyber-physical security analysis!\n"
   ]
  },
  {
   "cell_type": "markdown",
   "metadata": {},
   "source": [
    "## Part 1: load python modules and work on `dataset 1` (normal operations)"
   ]
  },
  {
   "cell_type": "markdown",
   "metadata": {},
   "source": [
    "### Import python modules"
   ]
  },
  {
   "cell_type": "code",
   "execution_count": 23,
   "metadata": {},
   "outputs": [],
   "source": [
    "# numpy stack\n",
    "import numpy as np\n",
    "import pandas as pd\n",
    "import matplotlib.pyplot as plt\n",
    "\n",
    "# scikit-learn\n",
    "from sklearn.preprocessing import StandardScaler\n",
    "from sklearn.model_selection import train_test_split\n",
    "from sklearn.decomposition import PCA\n",
    "\n",
    "# dashboard\n",
    "from helper_functions import plot_dashboard"
   ]
  },
  {
   "cell_type": "markdown",
   "metadata": {},
   "source": [
    "### Load data"
   ]
  },
  {
   "cell_type": "code",
   "execution_count": 24,
   "metadata": {},
   "outputs": [],
   "source": [
    "# load data dataset\n",
    "data_path = \"./data/\"\n",
    "df01 = pd.read_csv(data_path + \"dataset_01.csv\", parse_dates = ['DATETIME'], dayfirst=True, index_col=0)\n",
    "\n",
    "# remove (use example in commented lines if you want to customise your selected sensors)\n",
    "sensor_cols = [col for col in df01.columns if (col not in ['ATT_FLAG'])]\n",
    "\n",
    "# sensor_cols = [col for col in df.columns if (col not in ['DATETIME','ATT_FLAG']) & \n",
    "#                ('S_' not in col)  & ('P_' not in col) & ('F_' not in col)]\n",
    "\n",
    "df01 = df01[sensor_cols]\n",
    "df01.columns = pd.Index(sensor_cols,name='sensors')"
   ]
  },
  {
   "cell_type": "markdown",
   "metadata": {},
   "source": [
    "### Compute statistics for each hour and day of the week"
   ]
  },
  {
   "cell_type": "code",
   "execution_count": 25,
   "metadata": {},
   "outputs": [],
   "source": [
    "# quickly done using pandas (no need to understand what's done here)\n",
    "df01_ = df01.copy()\n",
    "df01_['dow'] = df01.reset_index()['DATETIME'].dt.dayofweek.values\n",
    "df01_['hod'] = df01.reset_index()['DATETIME'].dt.hour.values\n",
    "for stat in ['min','max','median']:\n",
    "    df01_ = df01_.merge(\n",
    "        df01_[sensor_cols+['dow','hod']].groupby(['dow','hod']).aggregate(stat).reset_index(), \n",
    "        how='left', on=['dow','hod'], suffixes=('', f'_{stat}'))\n",
    "df01_.set_index(df01.index, inplace=True)"
   ]
  },
  {
   "cell_type": "markdown",
   "metadata": {},
   "source": [
    "### Visualize dashboard for normal operations"
   ]
  },
  {
   "cell_type": "code",
   "execution_count": 26,
   "metadata": {},
   "outputs": [
    {
     "name": "stdout",
     "output_type": "stream",
     "text": [
      "Dash app running on http://localhost:8051/\n"
     ]
    }
   ],
   "source": [
    "app = plot_dashboard(df01_, sensor_cols, stats_to_show=['min','max'])\n",
    "app.run_server(host=\"localhost\",port=8051, debug=True)"
   ]
  },
  {
   "cell_type": "markdown",
   "metadata": {},
   "source": [
    "## Part 2: identify known attacks in `dataset 2`"
   ]
  },
  {
   "cell_type": "markdown",
   "metadata": {},
   "source": [
    "These are the 7 attacks in `dataset_02.csv`.\n",
    "\n",
    "<p align=\"center\">\n",
    "    <img src=\"./images/attacks_dataset_02.PNG\" alt=\"The C-Town WDS\" id=\"map\" width=\"800px\"/>\n",
    "</p>     \n"
   ]
  },
  {
   "cell_type": "code",
   "execution_count": 27,
   "metadata": {},
   "outputs": [],
   "source": [
    "# load data dataset\n",
    "df02 = pd.read_csv(data_path + \"dataset_02.csv\", parse_dates = ['DATETIME'], dayfirst=True, index_col=0)"
   ]
  },
  {
   "cell_type": "markdown",
   "metadata": {},
   "source": [
    "df02_ = df02.copy()\n",
    "df02_['dow'] = df02.reset_index()['DATETIME'].dt.dayofweek.values\n",
    "df02_['hod'] = df02.reset_index()['DATETIME'].dt.hour.values\n",
    "for stat in ['min','max','median']:\n",
    "    df02_ = df02_.merge(\n",
    "        df01_[sensor_cols+['dow','hod']].groupby(['dow','hod']).aggregate(stat).reset_index(), \n",
    "        how='left', on=['dow','hod'], suffixes=('', f'_{stat}'))\n",
    "\n",
    "df02_.set_index(df02.index, inplace=True)"
   ]
  },
  {
   "cell_type": "code",
   "execution_count": 28,
   "metadata": {},
   "outputs": [
    {
     "name": "stdout",
     "output_type": "stream",
     "text": [
      "Dash app running on http://localhost:8052/\n"
     ]
    }
   ],
   "source": [
    "app = plot_dashboard(df02_, sensor_cols, stats_to_show=['min','max'], show_attacks=True)\n",
    "app.run_server(host=\"localhost\",port=8052, debug=True)"
   ]
  },
  {
   "cell_type": "markdown",
   "metadata": {},
   "source": [
    "## Part 3: find unknown attacks in `dataset 3`"
   ]
  },
  {
   "cell_type": "markdown",
   "metadata": {},
   "source": [
    "Use the dashboard again to find all 7 attacks in `dataset_03.csv`!"
   ]
  },
  {
   "cell_type": "code",
   "execution_count": 29,
   "metadata": {},
   "outputs": [],
   "source": [
    "# load data dataset\n",
    "df03 = pd.read_csv(data_path + \"dataset_03.csv\", parse_dates = ['DATETIME'], dayfirst=True, index_col=0)"
   ]
  },
  {
   "cell_type": "code",
   "execution_count": 30,
   "metadata": {},
   "outputs": [],
   "source": [
    "df03_ = df03.copy()\n",
    "df03_['dow'] = df03.reset_index()['DATETIME'].dt.dayofweek.values\n",
    "df03_['hod'] = df03.reset_index()['DATETIME'].dt.hour.values\n",
    "for stat in ['min','max','median']:\n",
    "    df03_ = df03_.merge(\n",
    "        df01_[sensor_cols+['dow','hod']].groupby(['dow','hod']).aggregate(stat).reset_index(), \n",
    "        how='left', on=['dow','hod'], suffixes=('', f'_{stat}'))\n",
    "\n",
    "df03_.set_index(df03.index, inplace=True)"
   ]
  },
  {
   "cell_type": "code",
   "execution_count": 31,
   "metadata": {},
   "outputs": [
    {
     "name": "stdout",
     "output_type": "stream",
     "text": [
      "Dash app running on http://localhost:8053/\n"
     ]
    }
   ],
   "source": [
    "app = plot_dashboard(df03_, sensor_cols, stats_to_show=['min','max'], show_attacks=False)\n",
    "app.run_server(host=\"localhost\",port=8053, debug=True)"
   ]
  },
  {
   "cell_type": "markdown",
   "metadata": {},
   "source": [
    "## Part 4: check against the ground truth"
   ]
  },
  {
   "cell_type": "markdown",
   "metadata": {},
   "source": [
    "These are the 7 attacks in `dataset_03.csv`. How many did you find? Not an easy task indeed! That is why we need sophisticated intrusion detection methods. Run the last cell to check the dashboard \n",
    "\n",
    "<p align=\"center\">\n",
    "    <img src=\"./images/attacks_dataset_03.PNG\" alt=\"The C-Town WDS\" id=\"map\" width=\"800px\"/>\n",
    "</p>     \n"
   ]
  },
  {
   "cell_type": "code",
   "execution_count": 32,
   "metadata": {},
   "outputs": [
    {
     "name": "stdout",
     "output_type": "stream",
     "text": [
      "Dash app running on http://localhost:8054/\n"
     ]
    }
   ],
   "source": [
    "app = plot_dashboard(df03_, sensor_cols, stats_to_show=['min','max'], show_attacks=True)\n",
    "app.run_server(host=\"localhost\",port=8054, debug=True)"
   ]
  }
 ],
 "metadata": {
  "kernelspec": {
   "display_name": "Python 3",
   "language": "python",
   "name": "python3"
  },
  "language_info": {
   "codemirror_mode": {
    "name": "ipython",
    "version": 3
   },
   "file_extension": ".py",
   "mimetype": "text/x-python",
   "name": "python",
   "nbconvert_exporter": "python",
   "pygments_lexer": "ipython3",
   "version": "3.8.8"
  }
 },
 "nbformat": 4,
 "nbformat_minor": 2
}
